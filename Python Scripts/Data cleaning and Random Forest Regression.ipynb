{
 "cells": [
  {
   "cell_type": "code",
   "execution_count": 43,
   "id": "e174690d",
   "metadata": {},
   "outputs": [],
   "source": [
    "# Importing the necessary libraries for analysis\n",
    "import pandas as pd\n",
    "import numpy as np\n",
    "import matplotlib.pyplot as plt\n",
    "from sklearn.model_selection import train_test_split\n",
    "from sklearn.ensemble import RandomForestRegressor\n",
    "from sklearn.metrics import mean_squared_error\n",
    "from sklearn.feature_extraction.text import TfidfVectorizer\n",
    "from sklearn.preprocessing import OneHotEncoder\n",
    "from scipy.sparse import hstack"
   ]
  },
  {
   "cell_type": "code",
   "execution_count": 44,
   "id": "4cc89afe",
   "metadata": {},
   "outputs": [],
   "source": [
    "#Reading all the datasets\n",
    "air_conditioners_df = pd.read_csv('Air Conditioners.csv')\n",
    "all_cars_bikes_df = pd.read_csv('All Car and Motorbike Products.csv')\n",
    "all_electronics_df = pd.read_csv('All Electronics.csv')\n",
    "all_exercise_fitness_df = pd.read_csv('All Exercise and Fitness.csv')\n",
    "all_grocery_df = pd.read_csv('All Grocery and Gourmet Foods.csv')\n",
    "all_kitchen_df = pd.read_csv('All Home and Kitchen.csv')\n",
    "all_pet_supplies_df = pd.read_csv('All Pet Supplies.csv')\n",
    "all_sports_df = pd.read_csv('All Sports Fitness and Outdoors.csv')\n",
    "all_amazon_df = pd.read_csv('Amazon-Products.csv')\n",
    "all_fashion_df = pd.read_csv('Amazon Fashion.csv')\n",
    "baby_bath_grooming_df = pd.read_csv('Baby Bath Skin and Grooming.csv')\n",
    "baby_fashion_df = pd.read_csv('Baby Fashion.csv')\n",
    "baby_products_df = pd.read_csv('Baby Products.csv')\n",
    "backpacks_df = pd.read_csv('Backpacks.csv')\n",
    "badminton_df = pd.read_csv('Badminton.csv')\n",
    "bags_and_luggage_df = pd.read_csv('Bags and Luggage.csv')\n",
    "ballerinas_df = pd.read_csv('Ballerinas.csv')\n",
    "beauty_and_grooming = pd.read_csv('Beauty and Grooming.csv')\n",
    "bedroom_linen_df = pd.read_csv('Bedroom Linen.csv')\n",
    "camera_accessories_df = pd.read_csv('Camera Accessories.csv')\n",
    "camera_df = pd.read_csv('Cameras.csv')\n",
    "camping_and_hiking_df = pd.read_csv('Camping and Hiking.csv')\n",
    "car_accessories_df = pd.read_csv('Car Accessories.csv')\n",
    "car_and_bike_care_df = pd.read_csv('Car and Bike Care.csv')\n",
    "car_electronics_df = pd.read_csv('Car Electronics.csv')\n",
    "car_parts_df = pd.read_csv('Car Parts.csv')\n",
    "cardio_equipment_df = pd.read_csv('Cardio Equipment.csv')\n",
    "casual_shoes_df = pd.read_csv('Casual Shoes.csv')\n",
    "clothing_df = pd.read_csv('Clothing.csv')\n",
    "coffee_tea_beverages_df = pd.read_csv('Coffee Tea and Beverages.csv')\n",
    "cricket_df = pd.read_csv('Cricket.csv')\n",
    "cycling_df = pd.read_csv('Cycling.csv')\n",
    "diapers_df = pd.read_csv('Diapers.csv')\n",
    "diet_and_nutrition_df = pd.read_csv('Diet and Nutrition.csv')\n",
    "dog_supplies_df = pd.read_csv('Dog supplies.csv')\n",
    "ethnic_wear_df = pd.read_csv('Ethnic Wear.csv')\n",
    "fashion_and_jewellery_df = pd.read_csv('Fashion and Silver Jewellery.csv')\n",
    "fashion_sandals_df = pd.read_csv('Fashion Sandals.csv')\n",
    "fitness_accessories_df = pd.read_csv('Fitness Accessories.csv')\n",
    "football_df = pd.read_csv('Football.csv')\n",
    "formal_shoes_df = pd.read_csv('Formal Shoes.csv')\n",
    "furniture_df = pd.read_csv('Furniture.csv')\n",
    "garden_and_outdoors_df = pd.read_csv('Garden and Outdoors.csv')\n",
    "gold_and_diamond_jewellery_df = pd.read_csv('Gold and Diamond Jewellery.csv')\n",
    "handbags_and_clutches_df = pd.read_csv('Handbags and Clutches.csv')\n",
    "headphones_df = pd.read_csv('Headphones.csv')\n",
    "health_and_personal_care_df = pd.read_csv('Health and Personal Care.csv')\n",
    "heating_and_cooling_appliances_df = pd.read_csv('Heating and Cooling Appliances.csv')\n",
    "home_audio_and_theater_df = pd.read_csv('Home Audio and Theater.csv')\n",
    "home_decor_df = pd.read_csv('Home Dcor.csv')\n",
    "home_entertainment_systems_df = pd.read_csv('Home Entertainment Systems.csv')\n",
    "home_furnishing_df = pd.read_csv('Home Furnishing.csv')\n",
    "home_improvement_df = pd.read_csv('Home Improvement.csv')\n",
    "home_storage_df = pd.read_csv('Home Storage.csv')\n",
    "household_supplies_df = pd.read_csv('Household Supplies.csv')\n",
    "indoor_lighting_df = pd.read_csv('Indoor Lighting.csv')\n",
    "industrial_and_scientific_supplies_df = pd.read_csv('Industrial and Scientific Supplies.csv')\n",
    "innerwear_df = pd.read_csv('Innerwear.csv')\n",
    "janitorial_and_sanitation_supplies_df = pd.read_csv('Janitorial and Sanitation Supplies.csv')\n",
    "jeans_df = pd.read_csv('Jeans.csv')\n",
    "jewellery_df = pd.read_csv('Jewellery.csv')\n",
    "kids_clothing_df = pd.read_csv('Kids Clothing.csv')\n",
    "kids_fashion_df = pd.read_csv('Kids Fashion.csv')\n",
    "kids_shoes_df = pd.read_csv('Kids Shoes.csv')\n",
    "kids_watches_df = pd.read_csv('Kids Watches.csv')\n",
    "kitchen_and_dining_df = pd.read_csv('Kitchen and Dining.csv')\n",
    "kitchen_and_storage_containers_df = pd.read_csv('Kitchen Storage and Containers.csv')\n",
    "kitchen_and_home_appliances_df = pd.read_csv('Kitchen and Home Appliances.csv')\n",
    "lab_and_scientific_df = pd.read_csv('Lab and Scientific.csv')\n",
    "lingerie_and_nightwear_df = pd.read_csv('Lingerie and Nightwear.csv')\n",
    "luxury_beauty_df = pd.read_csv('Luxury Beauty.csv')\n",
    "makeup_df = pd.read_csv('Make-up.csv')\n",
    "mens_fashion_df = pd.read_csv('Mens Fashion.csv')\n",
    "motorbike_accessories_and_parts_df = pd.read_csv('Motorbike Accessories and Parts.csv')\n",
    "musical_instruments_and_professional_audio_df = pd.read_csv('Musical Instruments and Professional Audio.csv')\n",
    "nursing_and_feeding_df = pd.read_csv('Nursing and Feeding.csv')\n",
    "personal_care_appliances_df = pd.read_csv('Personal Care Appliances.csv')\n",
    "refrigerators_df = pd.read_csv('Refrigerators.csv')\n",
    "rucksack_df = pd.read_csv('Rucksacks.csv')\n",
    "running_df = pd.read_csv('Running.csv')\n",
    "school_bags_df = pd.read_csv('School Bags.csv')\n",
    "security_cameras_df = pd.read_csv('Security Cameras.csv')\n",
    "sewing_and_craft_supplies = pd.read_csv('Sewing and Craft Supplies.csv')\n",
    "shirts_df = pd.read_csv('Shirts.csv')\n",
    "shoes_df = pd.read_csv('Shoes.csv')\n",
    "snack_foods_df = pd.read_csv('Snack Foods.csv')\n",
    "speakers_df = pd.read_csv('Speakers.csv')\n",
    "sports_shoes_df = pd.read_csv('Sports Shoes.csv')\n",
    "sportswear_df = pd.read_csv('Sportswear.csv')\n",
    "strength_training_df = pd.read_csv('Strength Training.csv')\n",
    "strollers_and_prams_df = pd.read_csv('Strollers and Prams.csv')\n",
    "suitcases_and_trolley_bags_df = pd.read_csv('Suitcases and Trolley Bags.csv')\n",
    "sunglasses_df = pd.read_csv('Sunglasses.csv')\n",
    "tshirts_and_polos_df = pd.read_csv('T-shirts and Polos.csv')\n",
    "televisions_df = pd.read_csv('Televisions.csv')\n",
    "test_measure_and_inspect_df = pd.read_csv('Test Measure and Inspect.csv')\n",
    "the_designer_boutique_df = pd.read_csv('The Designer Boutique.csv')\n",
    "toys_and_games_df = pd.read_csv('Toys and Games.csv')\n",
    "travel_accessories_df = pd.read_csv('Travel Accessories.csv')\n",
    "travel_duffles_df = pd.read_csv('Travel Duffles.csv')\n",
    "value_bazaar_df = pd.read_csv('Value Bazaar.csv')\n",
    "wallets_df = pd.read_csv('Wallets.csv')\n",
    "washing_machines_df = pd.read_csv('Washing Machines.csv')\n",
    "watches_df = pd.read_csv('Watches.csv')\n",
    "western_wear_df = pd.read_csv('Western Wear.csv')\n",
    "womens_fashion_df = pd.read_csv('Womens Fashion.csv')\n",
    "yoga_df = pd.read_csv('Yoga.csv')"
   ]
  },
  {
   "cell_type": "code",
   "execution_count": 45,
   "id": "6e65c752",
   "metadata": {},
   "outputs": [
    {
     "data": {
      "text/plain": [
       "((1093430, 10),\n",
       "                                                 name main_category  \\\n",
       " 0  Lloyd 1.5 Ton 3 Star Inverter Split Ac (5 In 1...    appliances   \n",
       " 1  LG 1.5 Ton 5 Star AI DUAL Inverter Split AC (C...    appliances   \n",
       " 2  LG 1 Ton 4 Star Ai Dual Inverter Split Ac (Cop...    appliances   \n",
       " 3  LG 1.5 Ton 3 Star AI DUAL Inverter Split AC (C...    appliances   \n",
       " 4  Carrier 1.5 Ton 3 Star Inverter Split AC (Copp...    appliances   \n",
       " \n",
       "        sub_category                                              image  \\\n",
       " 0  Air Conditioners  https://m.media-amazon.com/images/I/31UISB90sY...   \n",
       " 1  Air Conditioners  https://m.media-amazon.com/images/I/51JFb7FctD...   \n",
       " 2  Air Conditioners  https://m.media-amazon.com/images/I/51JFb7FctD...   \n",
       " 3  Air Conditioners  https://m.media-amazon.com/images/I/51JFb7FctD...   \n",
       " 4  Air Conditioners  https://m.media-amazon.com/images/I/41lrtqXPiW...   \n",
       " \n",
       "                                                 link ratings no_of_ratings  \\\n",
       " 0  https://www.amazon.in/Lloyd-Inverter-Convertib...     4.2         2,255   \n",
       " 1  https://www.amazon.in/LG-Convertible-Anti-Viru...     4.2         2,948   \n",
       " 2  https://www.amazon.in/LG-Inverter-Convertible-...     4.2         1,206   \n",
       " 3  https://www.amazon.in/LG-Convertible-Anti-Viru...     4.0            69   \n",
       " 4  https://www.amazon.in/Carrier-Inverter-Split-C...     4.1           630   \n",
       " \n",
       "   discount_price actual_price  Unnamed: 0  \n",
       " 0        ₹32,999      ₹58,990         NaN  \n",
       " 1        ₹46,490      ₹75,990         NaN  \n",
       " 2        ₹34,490      ₹61,990         NaN  \n",
       " 3        ₹37,990      ₹68,990         NaN  \n",
       " 4        ₹34,490      ₹67,790         NaN  )"
      ]
     },
     "execution_count": 45,
     "metadata": {},
     "output_type": "execute_result"
    }
   ],
   "source": [
    "# Combine the DataFrames vertically\n",
    "df = pd.concat([\n",
    "air_conditioners_df,\n",
    "all_cars_bikes_df,\n",
    "all_electronics_df,\n",
    "all_exercise_fitness_df,\n",
    "all_grocery_df,\n",
    "all_kitchen_df,\n",
    "all_pet_supplies_df,\n",
    "all_sports_df,\n",
    "all_amazon_df,\n",
    "all_fashion_df,\n",
    "baby_bath_grooming_df,\n",
    "baby_fashion_df, \n",
    "baby_products_df, \n",
    "backpacks_df, \n",
    "badminton_df,\n",
    "bags_and_luggage_df,\n",
    "ballerinas_df, \n",
    "beauty_and_grooming,\n",
    "bedroom_linen_df,\n",
    "camera_accessories_df,\n",
    "camera_df, \n",
    "camping_and_hiking_df,\n",
    "car_accessories_df,\n",
    "car_and_bike_care_df, \n",
    "car_electronics_df,\n",
    "car_parts_df,\n",
    "cardio_equipment_df,\n",
    "casual_shoes_df,\n",
    "clothing_df, \n",
    "coffee_tea_beverages_df,\n",
    "cricket_df,\n",
    "cycling_df,\n",
    "diapers_df,\n",
    "diet_and_nutrition_df,\n",
    "dog_supplies_df,\n",
    "ethnic_wear_df,\n",
    "fashion_and_jewellery_df,\n",
    "fashion_sandals_df,\n",
    "fitness_accessories_df,\n",
    "football_df,\n",
    "formal_shoes_df,\n",
    "furniture_df,\n",
    "garden_and_outdoors_df,\n",
    "gold_and_diamond_jewellery_df, \n",
    "handbags_and_clutches_df,\n",
    "headphones_df,\n",
    "health_and_personal_care_df, \n",
    "heating_and_cooling_appliances_df, \n",
    "home_audio_and_theater_df,\n",
    "home_decor_df,\n",
    "home_entertainment_systems_df,\n",
    "home_furnishing_df,\n",
    "home_improvement_df,\n",
    "home_storage_df, \n",
    "household_supplies_df,\n",
    "indoor_lighting_df,\n",
    "industrial_and_scientific_supplies_df,\n",
    "innerwear_df, \n",
    "janitorial_and_sanitation_supplies_df,\n",
    "jeans_df,\n",
    "jewellery_df,\n",
    "kids_clothing_df, \n",
    "kids_fashion_df, \n",
    "kids_shoes_df,\n",
    "kids_watches_df, \n",
    "kitchen_and_dining_df, \n",
    "kitchen_and_storage_containers_df, \n",
    "kitchen_and_home_appliances_df,\n",
    "lab_and_scientific_df,\n",
    "lingerie_and_nightwear_df,\n",
    "luxury_beauty_df,\n",
    "makeup_df,\n",
    "mens_fashion_df,\n",
    "motorbike_accessories_and_parts_df, \n",
    "musical_instruments_and_professional_audio_df, \n",
    "nursing_and_feeding_df,\n",
    "personal_care_appliances_df,\n",
    "refrigerators_df, \n",
    "rucksack_df,\n",
    "running_df, \n",
    "school_bags_df, \n",
    "security_cameras_df,\n",
    "sewing_and_craft_supplies,\n",
    "shirts_df,\n",
    "shoes_df, \n",
    "snack_foods_df, \n",
    "speakers_df,\n",
    "sports_shoes_df,\n",
    "sportswear_df,\n",
    "strength_training_df,\n",
    "strollers_and_prams_df,\n",
    "suitcases_and_trolley_bags_df,\n",
    "sunglasses_df, \n",
    "tshirts_and_polos_df,\n",
    "televisions_df,\n",
    "test_measure_and_inspect_df, \n",
    "the_designer_boutique_df,\n",
    "toys_and_games_df, \n",
    "travel_accessories_df, \n",
    "travel_duffles_df, \n",
    "value_bazaar_df, \n",
    "wallets_df,\n",
    "washing_machines_df,\n",
    "watches_df,\n",
    "western_wear_df, \n",
    "womens_fashion_df,\n",
    "yoga_df,\n",
    "], ignore_index=True)\n",
    "\n",
    "# Display the shape of the combined DataFrame and the first few rows to confirm the combination\n",
    "(df.shape, df.head())\n"
   ]
  },
  {
   "cell_type": "code",
   "execution_count": 46,
   "id": "c2ed6d69",
   "metadata": {},
   "outputs": [
    {
     "data": {
      "text/html": [
       "<div>\n",
       "<style scoped>\n",
       "    .dataframe tbody tr th:only-of-type {\n",
       "        vertical-align: middle;\n",
       "    }\n",
       "\n",
       "    .dataframe tbody tr th {\n",
       "        vertical-align: top;\n",
       "    }\n",
       "\n",
       "    .dataframe thead th {\n",
       "        text-align: right;\n",
       "    }\n",
       "</style>\n",
       "<table border=\"1\" class=\"dataframe\">\n",
       "  <thead>\n",
       "    <tr style=\"text-align: right;\">\n",
       "      <th></th>\n",
       "      <th>name</th>\n",
       "      <th>main_category</th>\n",
       "      <th>sub_category</th>\n",
       "      <th>image</th>\n",
       "      <th>link</th>\n",
       "      <th>ratings</th>\n",
       "      <th>no_of_ratings</th>\n",
       "      <th>discount_price</th>\n",
       "      <th>actual_price</th>\n",
       "      <th>Unnamed: 0</th>\n",
       "    </tr>\n",
       "  </thead>\n",
       "  <tbody>\n",
       "    <tr>\n",
       "      <th>0</th>\n",
       "      <td>Lloyd 1.5 Ton 3 Star Inverter Split Ac (5 In 1...</td>\n",
       "      <td>appliances</td>\n",
       "      <td>Air Conditioners</td>\n",
       "      <td>https://m.media-amazon.com/images/I/31UISB90sY...</td>\n",
       "      <td>https://www.amazon.in/Lloyd-Inverter-Convertib...</td>\n",
       "      <td>4.2</td>\n",
       "      <td>2,255</td>\n",
       "      <td>₹32,999</td>\n",
       "      <td>₹58,990</td>\n",
       "      <td>NaN</td>\n",
       "    </tr>\n",
       "    <tr>\n",
       "      <th>1</th>\n",
       "      <td>LG 1.5 Ton 5 Star AI DUAL Inverter Split AC (C...</td>\n",
       "      <td>appliances</td>\n",
       "      <td>Air Conditioners</td>\n",
       "      <td>https://m.media-amazon.com/images/I/51JFb7FctD...</td>\n",
       "      <td>https://www.amazon.in/LG-Convertible-Anti-Viru...</td>\n",
       "      <td>4.2</td>\n",
       "      <td>2,948</td>\n",
       "      <td>₹46,490</td>\n",
       "      <td>₹75,990</td>\n",
       "      <td>NaN</td>\n",
       "    </tr>\n",
       "    <tr>\n",
       "      <th>2</th>\n",
       "      <td>LG 1 Ton 4 Star Ai Dual Inverter Split Ac (Cop...</td>\n",
       "      <td>appliances</td>\n",
       "      <td>Air Conditioners</td>\n",
       "      <td>https://m.media-amazon.com/images/I/51JFb7FctD...</td>\n",
       "      <td>https://www.amazon.in/LG-Inverter-Convertible-...</td>\n",
       "      <td>4.2</td>\n",
       "      <td>1,206</td>\n",
       "      <td>₹34,490</td>\n",
       "      <td>₹61,990</td>\n",
       "      <td>NaN</td>\n",
       "    </tr>\n",
       "    <tr>\n",
       "      <th>3</th>\n",
       "      <td>LG 1.5 Ton 3 Star AI DUAL Inverter Split AC (C...</td>\n",
       "      <td>appliances</td>\n",
       "      <td>Air Conditioners</td>\n",
       "      <td>https://m.media-amazon.com/images/I/51JFb7FctD...</td>\n",
       "      <td>https://www.amazon.in/LG-Convertible-Anti-Viru...</td>\n",
       "      <td>4.0</td>\n",
       "      <td>69</td>\n",
       "      <td>₹37,990</td>\n",
       "      <td>₹68,990</td>\n",
       "      <td>NaN</td>\n",
       "    </tr>\n",
       "    <tr>\n",
       "      <th>4</th>\n",
       "      <td>Carrier 1.5 Ton 3 Star Inverter Split AC (Copp...</td>\n",
       "      <td>appliances</td>\n",
       "      <td>Air Conditioners</td>\n",
       "      <td>https://m.media-amazon.com/images/I/41lrtqXPiW...</td>\n",
       "      <td>https://www.amazon.in/Carrier-Inverter-Split-C...</td>\n",
       "      <td>4.1</td>\n",
       "      <td>630</td>\n",
       "      <td>₹34,490</td>\n",
       "      <td>₹67,790</td>\n",
       "      <td>NaN</td>\n",
       "    </tr>\n",
       "  </tbody>\n",
       "</table>\n",
       "</div>"
      ],
      "text/plain": [
       "                                                name main_category  \\\n",
       "0  Lloyd 1.5 Ton 3 Star Inverter Split Ac (5 In 1...    appliances   \n",
       "1  LG 1.5 Ton 5 Star AI DUAL Inverter Split AC (C...    appliances   \n",
       "2  LG 1 Ton 4 Star Ai Dual Inverter Split Ac (Cop...    appliances   \n",
       "3  LG 1.5 Ton 3 Star AI DUAL Inverter Split AC (C...    appliances   \n",
       "4  Carrier 1.5 Ton 3 Star Inverter Split AC (Copp...    appliances   \n",
       "\n",
       "       sub_category                                              image  \\\n",
       "0  Air Conditioners  https://m.media-amazon.com/images/I/31UISB90sY...   \n",
       "1  Air Conditioners  https://m.media-amazon.com/images/I/51JFb7FctD...   \n",
       "2  Air Conditioners  https://m.media-amazon.com/images/I/51JFb7FctD...   \n",
       "3  Air Conditioners  https://m.media-amazon.com/images/I/51JFb7FctD...   \n",
       "4  Air Conditioners  https://m.media-amazon.com/images/I/41lrtqXPiW...   \n",
       "\n",
       "                                                link ratings no_of_ratings  \\\n",
       "0  https://www.amazon.in/Lloyd-Inverter-Convertib...     4.2         2,255   \n",
       "1  https://www.amazon.in/LG-Convertible-Anti-Viru...     4.2         2,948   \n",
       "2  https://www.amazon.in/LG-Inverter-Convertible-...     4.2         1,206   \n",
       "3  https://www.amazon.in/LG-Convertible-Anti-Viru...     4.0            69   \n",
       "4  https://www.amazon.in/Carrier-Inverter-Split-C...     4.1           630   \n",
       "\n",
       "  discount_price actual_price  Unnamed: 0  \n",
       "0        ₹32,999      ₹58,990         NaN  \n",
       "1        ₹46,490      ₹75,990         NaN  \n",
       "2        ₹34,490      ₹61,990         NaN  \n",
       "3        ₹37,990      ₹68,990         NaN  \n",
       "4        ₹34,490      ₹67,790         NaN  "
      ]
     },
     "execution_count": 46,
     "metadata": {},
     "output_type": "execute_result"
    }
   ],
   "source": [
    "df.head(5)"
   ]
  },
  {
   "cell_type": "code",
   "execution_count": 47,
   "id": "11cff3c8",
   "metadata": {},
   "outputs": [],
   "source": [
    "Col_to_drop = df.drop(['image', 'link','Unnamed: 0'],axis=1, inplace=True)"
   ]
  },
  {
   "cell_type": "code",
   "execution_count": 48,
   "id": "eed38b03",
   "metadata": {},
   "outputs": [
    {
     "data": {
      "text/plain": [
       "(1093430, 7)"
      ]
     },
     "execution_count": 48,
     "metadata": {},
     "output_type": "execute_result"
    }
   ],
   "source": [
    "df.shape"
   ]
  },
  {
   "cell_type": "code",
   "execution_count": 49,
   "id": "bfb31774",
   "metadata": {},
   "outputs": [
    {
     "name": "stdout",
     "output_type": "stream",
     "text": [
      "<class 'pandas.core.frame.DataFrame'>\n",
      "RangeIndex: 1093430 entries, 0 to 1093429\n",
      "Data columns (total 7 columns):\n",
      " #   Column          Non-Null Count    Dtype \n",
      "---  ------          --------------    ----- \n",
      " 0   name            1093430 non-null  object\n",
      " 1   main_category   1093430 non-null  object\n",
      " 2   sub_category    1093430 non-null  object\n",
      " 3   ratings         742330 non-null   object\n",
      " 4   no_of_ratings   742330 non-null   object\n",
      " 5   discount_price  971507 non-null   object\n",
      " 6   actual_price    1057905 non-null  object\n",
      "dtypes: object(7)\n",
      "memory usage: 58.4+ MB\n"
     ]
    }
   ],
   "source": [
    "df.describe()\n",
    "df.dtypes\n",
    "df.info()"
   ]
  },
  {
   "cell_type": "code",
   "execution_count": 50,
   "id": "da44a1b5",
   "metadata": {},
   "outputs": [],
   "source": [
    "#Changing the data type of discounted price and actual price\n",
    "\n",
    "df['discount_price'] = df['discount_price'].str.replace(\"₹\",'')\n",
    "df['discount_price'] = df['discount_price'].str.replace(\",\",'')\n",
    "df['discount_price'] = df['discount_price'].astype('float64')\n",
    "\n",
    "df['actual_price'] = df['actual_price'].str.replace(\"₹\",'')\n",
    "df['actual_price'] = df['actual_price'].str.replace(\",\",'')\n",
    "df['actual_price'] = df['actual_price'].astype('float64')"
   ]
  },
  {
   "cell_type": "code",
   "execution_count": 51,
   "id": "e705f726",
   "metadata": {},
   "outputs": [
    {
     "data": {
      "text/plain": [
       "name               object\n",
       "main_category      object\n",
       "sub_category       object\n",
       "ratings            object\n",
       "no_of_ratings      object\n",
       "discount_price    float64\n",
       "actual_price      float64\n",
       "dtype: object"
      ]
     },
     "execution_count": 51,
     "metadata": {},
     "output_type": "execute_result"
    }
   ],
   "source": [
    "df.dtypes"
   ]
  },
  {
   "cell_type": "code",
   "execution_count": 52,
   "id": "247b8d0e",
   "metadata": {},
   "outputs": [],
   "source": [
    "df['no_of_ratings'] = df['no_of_ratings'].str.replace(r'[^\\d.]', '', regex=True)\n",
    "df['no_of_ratings'] = pd.to_numeric(df['no_of_ratings'], errors='coerce')\n",
    "df['ratings'] = pd.to_numeric(df['ratings'], errors='coerce')"
   ]
  },
  {
   "cell_type": "code",
   "execution_count": 53,
   "id": "b85425f0",
   "metadata": {},
   "outputs": [
    {
     "data": {
      "text/plain": [
       "name               object\n",
       "main_category      object\n",
       "sub_category       object\n",
       "ratings           float64\n",
       "no_of_ratings     float64\n",
       "discount_price    float64\n",
       "actual_price      float64\n",
       "dtype: object"
      ]
     },
     "execution_count": 53,
     "metadata": {},
     "output_type": "execute_result"
    }
   ],
   "source": [
    "df.dtypes"
   ]
  },
  {
   "cell_type": "code",
   "execution_count": 54,
   "id": "61a9eaf3",
   "metadata": {},
   "outputs": [
    {
     "data": {
      "text/html": [
       "<div>\n",
       "<style scoped>\n",
       "    .dataframe tbody tr th:only-of-type {\n",
       "        vertical-align: middle;\n",
       "    }\n",
       "\n",
       "    .dataframe tbody tr th {\n",
       "        vertical-align: top;\n",
       "    }\n",
       "\n",
       "    .dataframe thead th {\n",
       "        text-align: right;\n",
       "    }\n",
       "</style>\n",
       "<table border=\"1\" class=\"dataframe\">\n",
       "  <thead>\n",
       "    <tr style=\"text-align: right;\">\n",
       "      <th></th>\n",
       "      <th>name</th>\n",
       "      <th>main_category</th>\n",
       "      <th>sub_category</th>\n",
       "      <th>ratings</th>\n",
       "      <th>no_of_ratings</th>\n",
       "      <th>discount_price</th>\n",
       "      <th>actual_price</th>\n",
       "    </tr>\n",
       "  </thead>\n",
       "  <tbody>\n",
       "    <tr>\n",
       "      <th>0</th>\n",
       "      <td>Lloyd 1.5 Ton 3 Star Inverter Split Ac (5 In 1...</td>\n",
       "      <td>appliances</td>\n",
       "      <td>Air Conditioners</td>\n",
       "      <td>4.2</td>\n",
       "      <td>2255.0</td>\n",
       "      <td>32999.0</td>\n",
       "      <td>58990.0</td>\n",
       "    </tr>\n",
       "    <tr>\n",
       "      <th>1</th>\n",
       "      <td>LG 1.5 Ton 5 Star AI DUAL Inverter Split AC (C...</td>\n",
       "      <td>appliances</td>\n",
       "      <td>Air Conditioners</td>\n",
       "      <td>4.2</td>\n",
       "      <td>2948.0</td>\n",
       "      <td>46490.0</td>\n",
       "      <td>75990.0</td>\n",
       "    </tr>\n",
       "    <tr>\n",
       "      <th>2</th>\n",
       "      <td>LG 1 Ton 4 Star Ai Dual Inverter Split Ac (Cop...</td>\n",
       "      <td>appliances</td>\n",
       "      <td>Air Conditioners</td>\n",
       "      <td>4.2</td>\n",
       "      <td>1206.0</td>\n",
       "      <td>34490.0</td>\n",
       "      <td>61990.0</td>\n",
       "    </tr>\n",
       "    <tr>\n",
       "      <th>3</th>\n",
       "      <td>LG 1.5 Ton 3 Star AI DUAL Inverter Split AC (C...</td>\n",
       "      <td>appliances</td>\n",
       "      <td>Air Conditioners</td>\n",
       "      <td>4.0</td>\n",
       "      <td>69.0</td>\n",
       "      <td>37990.0</td>\n",
       "      <td>68990.0</td>\n",
       "    </tr>\n",
       "    <tr>\n",
       "      <th>4</th>\n",
       "      <td>Carrier 1.5 Ton 3 Star Inverter Split AC (Copp...</td>\n",
       "      <td>appliances</td>\n",
       "      <td>Air Conditioners</td>\n",
       "      <td>4.1</td>\n",
       "      <td>630.0</td>\n",
       "      <td>34490.0</td>\n",
       "      <td>67790.0</td>\n",
       "    </tr>\n",
       "  </tbody>\n",
       "</table>\n",
       "</div>"
      ],
      "text/plain": [
       "                                                name main_category  \\\n",
       "0  Lloyd 1.5 Ton 3 Star Inverter Split Ac (5 In 1...    appliances   \n",
       "1  LG 1.5 Ton 5 Star AI DUAL Inverter Split AC (C...    appliances   \n",
       "2  LG 1 Ton 4 Star Ai Dual Inverter Split Ac (Cop...    appliances   \n",
       "3  LG 1.5 Ton 3 Star AI DUAL Inverter Split AC (C...    appliances   \n",
       "4  Carrier 1.5 Ton 3 Star Inverter Split AC (Copp...    appliances   \n",
       "\n",
       "       sub_category  ratings  no_of_ratings  discount_price  actual_price  \n",
       "0  Air Conditioners      4.2         2255.0         32999.0       58990.0  \n",
       "1  Air Conditioners      4.2         2948.0         46490.0       75990.0  \n",
       "2  Air Conditioners      4.2         1206.0         34490.0       61990.0  \n",
       "3  Air Conditioners      4.0           69.0         37990.0       68990.0  \n",
       "4  Air Conditioners      4.1          630.0         34490.0       67790.0  "
      ]
     },
     "execution_count": 54,
     "metadata": {},
     "output_type": "execute_result"
    }
   ],
   "source": [
    "df.head()"
   ]
  },
  {
   "cell_type": "code",
   "execution_count": 55,
   "id": "a6f50eb6",
   "metadata": {},
   "outputs": [],
   "source": [
    "df.dropna(subset=['discount_price'], inplace = True)\n",
    "df.dropna(subset=['ratings'], inplace = True)\n",
    "df.dropna(subset=['actual_price'], inplace = True)"
   ]
  },
  {
   "cell_type": "code",
   "execution_count": 56,
   "id": "2fd1406f",
   "metadata": {},
   "outputs": [
    {
     "data": {
      "text/plain": [
       "ratings           0\n",
       "no_of_ratings     0\n",
       "discount_price    0\n",
       "actual_price      0\n",
       "dtype: int64"
      ]
     },
     "execution_count": 56,
     "metadata": {},
     "output_type": "execute_result"
    }
   ],
   "source": [
    "missing_values = df[['ratings', 'no_of_ratings', 'discount_price', 'actual_price']].isnull().sum()\n",
    "missing_values"
   ]
  },
  {
   "cell_type": "code",
   "execution_count": 58,
   "id": "fc60a40b",
   "metadata": {},
   "outputs": [
    {
     "data": {
      "text/plain": [
       "(661112, 7)"
      ]
     },
     "execution_count": 58,
     "metadata": {},
     "output_type": "execute_result"
    }
   ],
   "source": [
    "df.shape"
   ]
  },
  {
   "cell_type": "code",
   "execution_count": 59,
   "id": "401f77ba",
   "metadata": {},
   "outputs": [],
   "source": [
    "df.to_csv('cleaned.csv', index=False)"
   ]
  },
  {
   "cell_type": "code",
   "execution_count": 37,
   "id": "97d29774",
   "metadata": {},
   "outputs": [
    {
     "name": "stdout",
     "output_type": "stream",
     "text": [
      "RMSE: 378.2479860854766\n"
     ]
    }
   ],
   "source": [
    "# Feature engineering (e.g., create a discount rate feature)\n",
    "df['discount_rate'] = (df['actual_price'] - df['discount_price']) / df['actual_price']\n",
    "\n",
    "# Text processing for product names\n",
    "tfidf = TfidfVectorizer(max_features=100)\n",
    "tfidf_matrix = tfidf.fit_transform(df['name'])\n",
    "\n",
    "# One-hot encoding for categorical variables\n",
    "ohe = OneHotEncoder()\n",
    "encoded_categories = ohe.fit_transform(df[['main_category', 'sub_category']])\n",
    "\n",
    "# Combine all features\n",
    "X = hstack([tfidf_matrix, encoded_categories, df[['actual_price', 'discount_rate']]])\n",
    "\n",
    "# Split the df into training and testing sets\n",
    "y = df['discount_price']\n",
    "X_train, X_test, y_train, y_test = train_test_split(X, y, test_size=0.2, random_state=42)\n",
    "\n",
    "# Train a Random Forest model\n",
    "rf_model = RandomForestRegressor(n_estimators=100, random_state=42)\n",
    "rf_model.fit(X_train, y_train)\n",
    "\n",
    "# Make predictions and evaluate the model\n",
    "predictions = rf_model.predict(X_test)\n",
    "mse = mean_squared_error(y_test, predictions)\n",
    "rmse = mse ** 0.5\n",
    "\n",
    "print(f'RMSE: {rmse}')\n"
   ]
  },
  {
   "cell_type": "markdown",
   "id": "d6897e07",
   "metadata": {},
   "source": [
    "An RMSE (Root Mean Squared Error) value of 378.2479860854766 in the context of your dataset's pricing prediction model gives us an indication of the model's prediction accuracy in terms of how close the predicted prices are to the actual prices, on average. Here's what it specifically tells us and how you might approach finding the accuracy of the predictions:\n",
    "\n",
    "Interpretation of RMSE: 378.2479860854766\n",
    "Average Prediction Error: The RMSE value represents the standard deviation of the residuals (prediction errors). In this case, an RMSE of 378.25 suggests that, on average, the model's predictions are off by about 378.25 units of your dataset's currency from the actual discount prices.\n",
    "\n",
    "Contextual Significance: The significance of an RMSE value depends on the context, including the scale and range of your target variable (e.g., discount prices). If the prices in your dataset typically range in the thousands, an RMSE of 378.25 could be considered relatively small and indicative of a reasonably accurate model. However, if your prices are generally lower, this RMSE might signify a less accurate model.\n",
    "\n",
    "Model Evaluation: RMSE is a commonly used metric for evaluating the performance of regression models. A lower RMSE value indicates better model performance. However, it's important to compare this value against a baseline model or other models to contextualize its performance.\n",
    "\n",
    "Sensitivity to Outliers: RMSE is sensitive to outliers because it squares the errors. Therefore, large errors due to outliers can disproportionately affect the RMSE value. If your dataset contains outliers in the target variable, they could significantly impact the RMSE."
   ]
  },
  {
   "cell_type": "code",
   "execution_count": 42,
   "id": "7574627c",
   "metadata": {},
   "outputs": [
    {
     "data": {
      "text/plain": [
       "0.9961868015827496"
      ]
     },
     "execution_count": 42,
     "metadata": {},
     "output_type": "execute_result"
    }
   ],
   "source": [
    "from sklearn.metrics import r2_score\n",
    "r2 = r2_score(y_test, predictions)\n",
    "r2"
   ]
  },
  {
   "cell_type": "markdown",
   "id": "61f474df",
   "metadata": {},
   "source": [
    "Accuracy of the Prediction\n",
    "In regression tasks, \"accuracy\" as it's typically understood in classification tasks\n",
    "(i.e., the proportion of correct predictions) doesn't directly apply. However, there are several ways to assess the performance and predictive accuracy of regression models:\n",
    "\n",
    "R-squared (Coefficient of Determination): \n",
    "This metric provides a measure of how well the observed outcomes are replicated by the model, based on the proportion of total variation of outcomes explained by the model. An R-squared value closer to 1 indicates a model that accurately predicts the target variable."
   ]
  },
  {
   "cell_type": "code",
   "execution_count": 43,
   "id": "28127f2d",
   "metadata": {},
   "outputs": [
    {
     "data": {
      "text/plain": [
       "5.267640530769988"
      ]
     },
     "execution_count": 43,
     "metadata": {},
     "output_type": "execute_result"
    }
   ],
   "source": [
    "from sklearn.metrics import mean_absolute_error\n",
    "mae = mean_absolute_error(y_test, predictions)\n",
    "mae"
   ]
  }
 ],
 "metadata": {
  "kernelspec": {
   "display_name": "Python 3 (ipykernel)",
   "language": "python",
   "name": "python3"
  },
  "language_info": {
   "codemirror_mode": {
    "name": "ipython",
    "version": 3
   },
   "file_extension": ".py",
   "mimetype": "text/x-python",
   "name": "python",
   "nbconvert_exporter": "python",
   "pygments_lexer": "ipython3",
   "version": "3.11.5"
  }
 },
 "nbformat": 4,
 "nbformat_minor": 5
}
